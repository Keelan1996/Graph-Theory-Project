{
 "cells": [
  {
   "cell_type": "markdown",
   "id": "1c390632",
   "metadata": {},
   "source": [
    "<br>\n",
    "\n",
    "## Heap Sort"
   ]
  },
  {
   "cell_type": "markdown",
   "id": "37002539",
   "metadata": {},
   "source": [
    "## Introduction\n"
   ]
  },
  {
   "cell_type": "markdown",
   "id": "42e63d74",
   "metadata": {},
   "source": [
    "I am writing this notebook to have an in depth look into the inner workings of the Heap sort sorting algorithm. "
   ]
  },
  {
   "cell_type": "markdown",
   "id": "286c35ed",
   "metadata": {},
   "source": [
    "### Data Structures and Algorithms\n"
   ]
  },
  {
   "cell_type": "markdown",
   "id": "e9e2a847",
   "metadata": {},
   "source": [
    "To understand what heap sort algorithm is, we must know what an algorithm is within computer science. On wikipedia an algorithm is described as [\"a finite sequence of well-defined instructions, typically used to solve a class of specific problems or to perform a computation.\"](https://en.wikipedia.org/wiki/Algorithm) [1]\n",
    "\n",
    "Meaning algorithms give you the implementation to solve a particular problem. In this context, algorithms are used to define data structures and their operations. \n",
    "\n",
    "Data structures are a [\"management, and storage format that enables efficient access and modification\"](https://en.wikipedia.org/wiki/Data_structure)[2] according to wikipedia.\n",
    "\n",
    "So putting these two together, algorithms determine the way data is organised from these data structures.\n",
    "\n",
    "Heap sort is one of many sorting algorithms, it is one of most known due to it's performance being that it's best and worst case scenario can be both [O(n\\log n)](https://en.wikipedia.org/wiki/Heapsort)[3].\n"
   ]
  },
  {
   "cell_type": "markdown",
   "id": "9471507e",
   "metadata": {},
   "source": [
    "### Heap"
   ]
  },
  {
   "cell_type": "markdown",
   "id": "6761573b",
   "metadata": {},
   "source": [
    "The \"Heap\" in heap sort is a binary tree with nodes that can have at most two children and which must satisfy two properties.\n",
    "\n",
    "The first being a structual property. In this the tree must satisfy by being complete.It is considered complete when \"A heap with height H is a complete binary tree if all the levels have the maximal number of nodes possible, and the remaining nodes at level H reside in the leftmost possible positions at that level.\"[[4]](https://books.google.ie/books?id=UqmYAgAAQBAJ&printsec=frontcover&dq=data+structures+and+algorithms&hl=en&sa=X&ved=2ahUKEwjT0pD3yM72AhVGasAKHYUfAMUQ6AF6BAgGEAI#v=onepage&q=data%20structures%20and%20algorithms&f=false) \n",
    "\n",
    "\n",
    "The second being heap-order property. Which is described as:<br>\n",
    "The parent node is less than or equal to a child node = min heap.<br>\n",
    "The parent node is greater than or equal to a child node = max heap.\n",
    "\n",
    "This means the root node of the tree is either the largest or smallest element that is in the data structure. When is comes to the heap sort algorithm the root is largest element meaning it uses a max heap.[[4]](https://books.google.ie/books?id=UqmYAgAAQBAJ&printsec=frontcover&dq=data+structures+and+algorithms&hl=en&sa=X&ved=2ahUKEwjT0pD3yM72AhVGasAKHYUfAMUQ6AF6BAgGEAI#v=onepage&q=data%20structures%20and%20algorithms&f=false)\n",
    "\n",
    "So when a heapsort method is used on an array of int's that is not ordered for example. It will sort the range of numbers and put the smallest int at index 0 and the largest int at the end of the array. (3412) -> (1234),\n",
    "\n",
    "I'll provide more of a demostration below.\n"
   ]
  },
  {
   "cell_type": "markdown",
   "id": "63cf2950",
   "metadata": {},
   "source": [
    "# Binary tree Example\n",
    "\n",
    "\n"
   ]
  },
  {
   "cell_type": "markdown",
   "id": "3ce4b0fc",
   "metadata": {},
   "source": [
    "With heap being an ordered tree based structure, it is usually implemented using a binary tree. Binary trees have 4 types of nodes:\n",
    "\n",
    "- Root Node\n",
    "- child node\n",
    "- parent node\n",
    "- leaf node\n",
    "\n",
    "Not all nodes are just the one type, a node can be both a parent and a child node. The root node is the first parent node in the tree and a parent node has a maximum of two children. Nodes at the end of the tree which have no child(ren) nodes are known as leaf nodes."
   ]
  },
  {
   "cell_type": "code",
   "execution_count": 5,
   "id": "7f7d8b33",
   "metadata": {},
   "outputs": [
    {
     "name": "stdout",
     "output_type": "stream",
     "text": [
      "[0, 1, 2, 3, 4, 5, 6, 7, 8, 9, 10, 11]\n"
     ]
    },
    {
     "data": {
      "image/png": "[encoded data removed]",
      "text/plain": [
       "<Figure size 432x288 with 1 Axes>"
      ]
     },
     "metadata": {},
     "output_type": "display_data"
    }
   ],
   "source": [
    "# Importing matplotlib, for plotting.\n",
    "import matplotlib.pyplot as plt\n",
    "\n",
    "# Importing networkx to draw graphs.\n",
    "import networkx as nx\n",
    "\n",
    "# Importing for math functions.\n",
    "import math\n",
    "\n",
    "def drawtree(lengthOfList, highlight=None):\n",
    "    \n",
    "  # Creates the binary tree.\n",
    "  T = nx.balanced_tree(2, math.floor(math.log(len(lengthOfList), 2)))\n",
    "    \n",
    "  # Removes nodes greater than the length of L.\n",
    "  T.remove_nodes_from(list(T.nodes)[len(lengthOfList):])\n",
    "    \n",
    "  # Relabel the nodes with elements of L.\n",
    "  T = nx.relabel_nodes(T, dict(zip(T.nodes, lengthOfList)), copy=True)\n",
    "    \n",
    "  # draws positions for the nodes in the picture.\n",
    "  pos = nx.drawing.nx_pydot.graphviz_layout(T, prog=\"dot\")\n",
    "    \n",
    "  # Draws the graph and what it looks like\n",
    "  nx.draw(T, pos, with_labels=True, node_color='lightgrey', node_size=1600, font_size=28)\n",
    "    \n",
    "  # Highlight nodes with colour blue if specify a node for the highlight argument\n",
    "  if highlight:\n",
    "    nx.draw_networkx(T.subgraph([i for i in T.nodes if i in highlight]), pos=pos, node_color='lightblue', node_size=1600, font_size=32)\n",
    "\n",
    "# Length of the list\n",
    "lengthOfList = 12\n",
    "\n",
    "# Create a list of length .\n",
    "L = list(range(lengthOfList))\n",
    "\n",
    "# Show the list.\n",
    "print(L)\n",
    "\n",
    "# Draw the tree from L.\n",
    "drawtree(L)"
   ]
  },
  {
   "cell_type": "code",
   "execution_count": 5,
   "id": "a16e40ad",
   "metadata": {},
   "outputs": [],
   "source": [
    "def heapify(a,count):\n",
    "    start = (count - 2)  //2 #   iParent(count-1) // divides by 2 but if num comes out 1.5 // floors it to 1.5\n",
    "    \n",
    "    while start >= 0:\n",
    "        siftDown(a,start,count-1)\n",
    "        start = start -1\n",
    "\n"
   ]
  },
  {
   "cell_type": "code",
   "execution_count": 44,
   "id": "1d9bc835",
   "metadata": {},
   "outputs": [],
   "source": [
    "def siftDown(a,start,end):\n",
    "    root =start\n",
    "    \n",
    "    while (2 * root +1)<= end:\n",
    "        child = (2 * root + 1)\n",
    "        swap = root\n",
    "        \n",
    "        if a[swap] < a[child]:\n",
    "            swap =child\n",
    "        if child + 1 <= end and a[swap] < a[child+1]:\n",
    "            swap = child+1\n",
    "        if swap == root:\n",
    "            return\n",
    "        else:\n",
    "            a[root], a[swap] = a[swap], a[root]\n",
    "            root = swap"
   ]
  },
  {
   "cell_type": "code",
   "execution_count": 45,
   "id": "cfed5853",
   "metadata": {},
   "outputs": [],
   "source": [
    "def heapsort(a):\n",
    "    \"\"\"Sorts the unordered array a of length count.\"\"\"\n",
    "    count = len(a) # length of the array a\n",
    "    \n",
    "    \n",
    "    heapify(a,count)\n",
    "    end = count-1\n",
    "    \n",
    "    while end > 0:\n",
    "        a[0], a[end] = a[end], a[0]\n",
    "        end = end -1\n",
    "        siftDown(a,0,end)"
   ]
  },
  {
   "cell_type": "code",
   "execution_count": 46,
   "id": "b714a9f0",
   "metadata": {},
   "outputs": [
    {
     "data": {
      "text/plain": [
       "[5, 1, 3, 7, 8, 9]"
      ]
     },
     "execution_count": 46,
     "metadata": {},
     "output_type": "execute_result"
    }
   ],
   "source": [
    "List = [5,1,3,7,8,9]\n",
    "List\n"
   ]
  },
  {
   "cell_type": "code",
   "execution_count": 47,
   "id": "85ed3866",
   "metadata": {},
   "outputs": [
    {
     "data": {
      "text/plain": [
       "[1, 3, 5, 7, 8, 9]"
      ]
     },
     "execution_count": 47,
     "metadata": {},
     "output_type": "execute_result"
    }
   ],
   "source": [
    "heapsort(List)\n",
    "List"
   ]
  },
  {
   "cell_type": "code",
   "execution_count": 48,
   "id": "cf340f29",
   "metadata": {},
   "outputs": [
    {
     "name": "stdout",
     "output_type": "stream",
     "text": [
      "(0, 1, 2, 3, 4) -> [0, 1, 2, 3, 4]\n",
      "(0, 1, 2, 4, 3) -> [0, 1, 2, 3, 4]\n",
      "(0, 1, 3, 2, 4) -> [0, 1, 2, 3, 4]\n",
      "(0, 1, 3, 4, 2) -> [0, 1, 2, 3, 4]\n",
      "(0, 1, 4, 2, 3) -> [0, 1, 2, 3, 4]\n",
      "(0, 1, 4, 3, 2) -> [0, 1, 2, 3, 4]\n",
      "(0, 2, 1, 3, 4) -> [0, 1, 2, 3, 4]\n",
      "(0, 2, 1, 4, 3) -> [0, 1, 2, 3, 4]\n",
      "(0, 2, 3, 1, 4) -> [0, 1, 2, 3, 4]\n",
      "(0, 2, 3, 4, 1) -> [0, 1, 2, 3, 4]\n",
      "(0, 2, 4, 1, 3) -> [0, 1, 2, 3, 4]\n",
      "(0, 2, 4, 3, 1) -> [0, 1, 2, 3, 4]\n",
      "(0, 3, 1, 2, 4) -> [0, 1, 2, 3, 4]\n",
      "(0, 3, 1, 4, 2) -> [0, 1, 2, 3, 4]\n",
      "(0, 3, 2, 1, 4) -> [0, 1, 2, 3, 4]\n",
      "(0, 3, 2, 4, 1) -> [0, 1, 2, 3, 4]\n",
      "(0, 3, 4, 1, 2) -> [0, 1, 2, 3, 4]\n",
      "(0, 3, 4, 2, 1) -> [0, 1, 2, 3, 4]\n",
      "(0, 4, 1, 2, 3) -> [0, 1, 2, 3, 4]\n",
      "(0, 4, 1, 3, 2) -> [0, 1, 2, 3, 4]\n",
      "(0, 4, 2, 1, 3) -> [0, 1, 2, 3, 4]\n",
      "(0, 4, 2, 3, 1) -> [0, 1, 2, 3, 4]\n",
      "(0, 4, 3, 1, 2) -> [0, 1, 2, 3, 4]\n",
      "(0, 4, 3, 2, 1) -> [0, 1, 2, 3, 4]\n",
      "(1, 0, 2, 3, 4) -> [0, 1, 2, 3, 4]\n",
      "(1, 0, 2, 4, 3) -> [0, 1, 2, 3, 4]\n",
      "(1, 0, 3, 2, 4) -> [0, 1, 2, 3, 4]\n",
      "(1, 0, 3, 4, 2) -> [0, 1, 2, 3, 4]\n",
      "(1, 0, 4, 2, 3) -> [0, 1, 2, 3, 4]\n",
      "(1, 0, 4, 3, 2) -> [0, 1, 2, 3, 4]\n",
      "(1, 2, 0, 3, 4) -> [0, 1, 2, 3, 4]\n",
      "(1, 2, 0, 4, 3) -> [0, 1, 2, 3, 4]\n",
      "(1, 2, 3, 0, 4) -> [0, 1, 2, 3, 4]\n",
      "(1, 2, 3, 4, 0) -> [0, 1, 2, 3, 4]\n",
      "(1, 2, 4, 0, 3) -> [0, 1, 2, 3, 4]\n",
      "(1, 2, 4, 3, 0) -> [0, 1, 2, 3, 4]\n",
      "(1, 3, 0, 2, 4) -> [0, 1, 2, 3, 4]\n",
      "(1, 3, 0, 4, 2) -> [0, 1, 2, 3, 4]\n",
      "(1, 3, 2, 0, 4) -> [0, 1, 2, 3, 4]\n",
      "(1, 3, 2, 4, 0) -> [0, 1, 2, 3, 4]\n",
      "(1, 3, 4, 0, 2) -> [0, 1, 2, 3, 4]\n",
      "(1, 3, 4, 2, 0) -> [0, 1, 2, 3, 4]\n",
      "(1, 4, 0, 2, 3) -> [0, 1, 2, 3, 4]\n",
      "(1, 4, 0, 3, 2) -> [0, 1, 2, 3, 4]\n",
      "(1, 4, 2, 0, 3) -> [0, 1, 2, 3, 4]\n",
      "(1, 4, 2, 3, 0) -> [0, 1, 2, 3, 4]\n",
      "(1, 4, 3, 0, 2) -> [0, 1, 2, 3, 4]\n",
      "(1, 4, 3, 2, 0) -> [0, 1, 2, 3, 4]\n",
      "(2, 0, 1, 3, 4) -> [0, 1, 2, 3, 4]\n",
      "(2, 0, 1, 4, 3) -> [0, 1, 2, 3, 4]\n",
      "(2, 0, 3, 1, 4) -> [0, 1, 2, 3, 4]\n",
      "(2, 0, 3, 4, 1) -> [0, 1, 2, 3, 4]\n",
      "(2, 0, 4, 1, 3) -> [0, 1, 2, 3, 4]\n",
      "(2, 0, 4, 3, 1) -> [0, 1, 2, 3, 4]\n",
      "(2, 1, 0, 3, 4) -> [0, 1, 2, 3, 4]\n",
      "(2, 1, 0, 4, 3) -> [0, 1, 2, 3, 4]\n",
      "(2, 1, 3, 0, 4) -> [0, 1, 2, 3, 4]\n",
      "(2, 1, 3, 4, 0) -> [0, 1, 2, 3, 4]\n",
      "(2, 1, 4, 0, 3) -> [0, 1, 2, 3, 4]\n",
      "(2, 1, 4, 3, 0) -> [0, 1, 2, 3, 4]\n",
      "(2, 3, 0, 1, 4) -> [0, 1, 2, 3, 4]\n",
      "(2, 3, 0, 4, 1) -> [0, 1, 2, 3, 4]\n",
      "(2, 3, 1, 0, 4) -> [0, 1, 2, 3, 4]\n",
      "(2, 3, 1, 4, 0) -> [0, 1, 2, 3, 4]\n",
      "(2, 3, 4, 0, 1) -> [0, 1, 2, 3, 4]\n",
      "(2, 3, 4, 1, 0) -> [0, 1, 2, 3, 4]\n",
      "(2, 4, 0, 1, 3) -> [0, 1, 2, 3, 4]\n",
      "(2, 4, 0, 3, 1) -> [0, 1, 2, 3, 4]\n",
      "(2, 4, 1, 0, 3) -> [0, 1, 2, 3, 4]\n",
      "(2, 4, 1, 3, 0) -> [0, 1, 2, 3, 4]\n",
      "(2, 4, 3, 0, 1) -> [0, 1, 2, 3, 4]\n",
      "(2, 4, 3, 1, 0) -> [0, 1, 2, 3, 4]\n",
      "(3, 0, 1, 2, 4) -> [0, 1, 2, 3, 4]\n",
      "(3, 0, 1, 4, 2) -> [0, 1, 2, 3, 4]\n",
      "(3, 0, 2, 1, 4) -> [0, 1, 2, 3, 4]\n",
      "(3, 0, 2, 4, 1) -> [0, 1, 2, 3, 4]\n",
      "(3, 0, 4, 1, 2) -> [0, 1, 2, 3, 4]\n",
      "(3, 0, 4, 2, 1) -> [0, 1, 2, 3, 4]\n",
      "(3, 1, 0, 2, 4) -> [0, 1, 2, 3, 4]\n",
      "(3, 1, 0, 4, 2) -> [0, 1, 2, 3, 4]\n",
      "(3, 1, 2, 0, 4) -> [0, 1, 2, 3, 4]\n",
      "(3, 1, 2, 4, 0) -> [0, 1, 2, 3, 4]\n",
      "(3, 1, 4, 0, 2) -> [0, 1, 2, 3, 4]\n",
      "(3, 1, 4, 2, 0) -> [0, 1, 2, 3, 4]\n",
      "(3, 2, 0, 1, 4) -> [0, 1, 2, 3, 4]\n",
      "(3, 2, 0, 4, 1) -> [0, 1, 2, 3, 4]\n",
      "(3, 2, 1, 0, 4) -> [0, 1, 2, 3, 4]\n",
      "(3, 2, 1, 4, 0) -> [0, 1, 2, 3, 4]\n",
      "(3, 2, 4, 0, 1) -> [0, 1, 2, 3, 4]\n",
      "(3, 2, 4, 1, 0) -> [0, 1, 2, 3, 4]\n",
      "(3, 4, 0, 1, 2) -> [0, 1, 2, 3, 4]\n",
      "(3, 4, 0, 2, 1) -> [0, 1, 2, 3, 4]\n",
      "(3, 4, 1, 0, 2) -> [0, 1, 2, 3, 4]\n",
      "(3, 4, 1, 2, 0) -> [0, 1, 2, 3, 4]\n",
      "(3, 4, 2, 0, 1) -> [0, 1, 2, 3, 4]\n",
      "(3, 4, 2, 1, 0) -> [0, 1, 2, 3, 4]\n",
      "(4, 0, 1, 2, 3) -> [0, 1, 2, 3, 4]\n",
      "(4, 0, 1, 3, 2) -> [0, 1, 2, 3, 4]\n",
      "(4, 0, 2, 1, 3) -> [0, 1, 2, 3, 4]\n",
      "(4, 0, 2, 3, 1) -> [0, 1, 2, 3, 4]\n",
      "(4, 0, 3, 1, 2) -> [0, 1, 2, 3, 4]\n",
      "(4, 0, 3, 2, 1) -> [0, 1, 2, 3, 4]\n",
      "(4, 1, 0, 2, 3) -> [0, 1, 2, 3, 4]\n",
      "(4, 1, 0, 3, 2) -> [0, 1, 2, 3, 4]\n",
      "(4, 1, 2, 0, 3) -> [0, 1, 2, 3, 4]\n",
      "(4, 1, 2, 3, 0) -> [0, 1, 2, 3, 4]\n",
      "(4, 1, 3, 0, 2) -> [0, 1, 2, 3, 4]\n",
      "(4, 1, 3, 2, 0) -> [0, 1, 2, 3, 4]\n",
      "(4, 2, 0, 1, 3) -> [0, 1, 2, 3, 4]\n",
      "(4, 2, 0, 3, 1) -> [0, 1, 2, 3, 4]\n",
      "(4, 2, 1, 0, 3) -> [0, 1, 2, 3, 4]\n",
      "(4, 2, 1, 3, 0) -> [0, 1, 2, 3, 4]\n",
      "(4, 2, 3, 0, 1) -> [0, 1, 2, 3, 4]\n",
      "(4, 2, 3, 1, 0) -> [0, 1, 2, 3, 4]\n",
      "(4, 3, 0, 1, 2) -> [0, 1, 2, 3, 4]\n",
      "(4, 3, 0, 2, 1) -> [0, 1, 2, 3, 4]\n",
      "(4, 3, 1, 0, 2) -> [0, 1, 2, 3, 4]\n",
      "(4, 3, 1, 2, 0) -> [0, 1, 2, 3, 4]\n",
      "(4, 3, 2, 0, 1) -> [0, 1, 2, 3, 4]\n",
      "(4, 3, 2, 1, 0) -> [0, 1, 2, 3, 4]\n"
     ]
    }
   ],
   "source": [
    "import itertools\n",
    "# premutation means gives any order the number can be in a list order, this a list of 0-4\n",
    "for perm in itertools.permutations(range(5)):\n",
    "    List = list(perm)\n",
    "    heapsort(List)\n",
    "    print(f'{perm} -> {List}')\n",
    "    \n",
    "    # sorts every possible premutatioon of the list into order\n",
    "    "
   ]
  },
  {
   "cell_type": "markdown",
   "id": "d50153c7",
   "metadata": {},
   "source": [
    "<br>\n",
    "\n",
    "## Teachers version of heap sort "
   ]
  },
  {
   "cell_type": "code",
   "execution_count": 50,
   "id": "bb8af581",
   "metadata": {},
   "outputs": [],
   "source": [
    "def siftDown(L, parent, end):\n",
    "    \"\"\"L[parent:end+1] should almost be a max heap.\n",
    "       siftDown repairs it so that it is one.\"\"\"\n",
    "    \n",
    "    # Keep track of the number of comparisons.\n",
    "    no_comparisons = 0\n",
    "    \n",
    "    # While parent is actually a parent (has at least a left child).\n",
    "    while 2*parent + 1 <= end:\n",
    "        # The indices of the children of parent.\n",
    "        lchild = 2 * parent + 1\n",
    "        rchild = 2 * parent + 2\n",
    "        \n",
    "        # Assume the parent is larger than the children.\n",
    "        swap = parent\n",
    "        # Is the parent smaller than the left child?\n",
    "        if L[swap] < L[lchild]:\n",
    "            # Then swap is set to index of left child.\n",
    "            swap = lchild\n",
    "            # Increment no_comparisons.\n",
    "            no_comparisons = no_comparisons + 1\n",
    "        # Check if right child exists and is smaller than L[swap].\n",
    "        if rchild <= end and L[swap] < L[rchild]:\n",
    "            # Then swap is set to index of right child.\n",
    "            swap = rchild\n",
    "            # Increment no_comparisons.\n",
    "            no_comparisons = no_comparisons + 1\n",
    "        # We have a max heap if the parent is bigger than the children.\n",
    "        if swap == parent:\n",
    "            break \n",
    "        else:\n",
    "            # Swap the parent with the bigger child.\n",
    "            L[parent], L[swap] = L[swap], L[parent]\n",
    "            # Set parent to bigger child's index.\n",
    "            parent = swap\n",
    "    \n",
    "    # Return the number of comparisons.\n",
    "    return no_comparisons\n"
   ]
  },
  {
   "cell_type": "code",
   "execution_count": 51,
   "id": "ad97d051",
   "metadata": {},
   "outputs": [],
   "source": [
    "def heapsort(L):\n",
    "    \"\"\"Sorts the list L in-place using Heap Sort.\"\"\"\n",
    "    \n",
    "    #section 1\n",
    "    \n",
    "    # Keep track of the number of comparisons.\n",
    "    no_comparisons = 0\n",
    "    \n",
    "    # Turn L into a max heap which is when everyparent is bigger than their child thats what this section does\n",
    "    # Index of the last element. the last child in the graph to find the parent\n",
    "    last_element = len(L) - 1\n",
    "    # Find the last parent. by using this math which finds the parent of the last child\n",
    "    last_parent = (last_element - 1) // 2\n",
    "    # Loop backwards through all parents. -1 goes backwards\n",
    "    for parent in range(last_parent, -1, -1):\n",
    "        # Sift down.\n",
    "        no_comparisons = no_comparisons + siftDown(L, parent, last_element)\n",
    "\n",
    "    \n",
    "    #section 2\n",
    "    \n",
    "    # Segregate the list L into two parts:\n",
    "    #   1. L[:end] is a max heap\n",
    "    #   2. Each element beyond end is greater than everything before it.\n",
    "    # While there are still elements in the heap.\n",
    "    for end in range(last_element, 0, -1):\n",
    "        # Swap the element at index 0 with the element at index end.\n",
    "        L[0], L[end] = L[end], L[0]\n",
    "        # Fix the heap - the root is currently out of place.\n",
    "        no_comparisons = no_comparisons + siftDown(L, 0, end - 1)\n",
    "    \n",
    "    # Return the number of comparisons.\n",
    "    return no_comparisons"
   ]
  },
  {
   "cell_type": "code",
   "execution_count": 52,
   "id": "6beedd31",
   "metadata": {},
   "outputs": [
    {
     "data": {
      "text/plain": [
       "[19, 100, 36, 25, 3, 17, 7, 1, 2]"
      ]
     },
     "execution_count": 52,
     "metadata": {},
     "output_type": "execute_result"
    }
   ],
   "source": [
    "# The example list from the diagram above.\n",
    "L = [19, 100, 36, 25, 3, 17, 7, 1, 2]\n",
    "L\n"
   ]
  },
  {
   "cell_type": "code",
   "execution_count": 53,
   "id": "7909988a",
   "metadata": {},
   "outputs": [
    {
     "data": {
      "text/plain": [
       "[1, 2, 3, 7, 17, 19, 25, 36, 100]"
      ]
     },
     "execution_count": 53,
     "metadata": {},
     "output_type": "execute_result"
    }
   ],
   "source": [
    "# Show heap sort working.\n",
    "heapsort(L)\n",
    "L"
   ]
  },
  {
   "cell_type": "markdown",
   "id": "806e7c1b",
   "metadata": {},
   "source": [
    "<br>\n",
    "\n",
    "## Comparing Algorithms"
   ]
  },
  {
   "cell_type": "code",
   "execution_count": 54,
   "id": "e69d020a",
   "metadata": {},
   "outputs": [
    {
     "data": {
      "text/plain": [
       "([1, 2, 3, 7, 17, 19, 25, 36, 100], 12)"
      ]
     },
     "execution_count": 54,
     "metadata": {},
     "output_type": "execute_result"
    }
   ],
   "source": [
    "# Perform heap sort, show number of comparisons.\n",
    "L = [19, 100, 36, 25, 3, 17, 7, 1, 2]\n",
    "no_comparisons = heapsort(L)\n",
    "L, no_comparisons"
   ]
  },
  {
   "cell_type": "code",
   "execution_count": 55,
   "id": "1d93892c",
   "metadata": {},
   "outputs": [
    {
     "data": {
      "text/plain": [
       "([1, 2, 3, 7, 17, 19, 25, 36, 100], 36)"
      ]
     },
     "execution_count": 55,
     "metadata": {},
     "output_type": "execute_result"
    }
   ],
   "source": [
    "# Perform bubble sort, show number of comparisons.\n",
    "L = [19, 100, 36, 25, 3, 17, 7, 1, 2]\n",
    "no_comparisons = bubble_sort(L)\n",
    "L, no_comparisons"
   ]
  },
  {
   "cell_type": "code",
   "execution_count": 56,
   "id": "1beb6646",
   "metadata": {},
   "outputs": [
    {
     "name": "stdout",
     "output_type": "stream",
     "text": [
      "0, 1, 2, 3, 4| bubSort = 4| HeapSort= 8\n",
      "0, 1, 2, 4, 3| bubSort = 7| HeapSort= 9\n",
      "0, 1, 3, 2, 4| bubSort = 7| HeapSort= 7\n",
      "0, 1, 3, 4, 2| bubSort = 9| HeapSort= 8\n",
      "0, 1, 4, 2, 3| bubSort = 7| HeapSort= 8\n",
      "0, 1, 4, 3, 2| bubSort = 9| HeapSort= 6\n",
      "0, 2, 1, 3, 4| bubSort = 7| HeapSort= 6\n",
      "0, 2, 1, 4, 3| bubSort = 7| HeapSort= 7\n",
      "0, 2, 3, 1, 4| bubSort = 9| HeapSort= 8\n",
      "0, 2, 3, 4, 1| bubSort = 10| HeapSort= 6\n",
      "0, 2, 4, 1, 3| bubSort = 9| HeapSort= 6\n",
      "0, 2, 4, 3, 1| bubSort = 10| HeapSort= 7\n",
      "0, 3, 1, 2, 4| bubSort = 7| HeapSort= 7\n",
      "0, 3, 1, 4, 2| bubSort = 9| HeapSort= 5\n",
      "0, 3, 2, 1, 4| bubSort = 9| HeapSort= 9\n",
      "0, 3, 2, 4, 1| bubSort = 10| HeapSort= 7\n",
      "0, 3, 4, 1, 2| bubSort = 9| HeapSort= 5\n",
      "0, 3, 4, 2, 1| bubSort = 10| HeapSort= 6\n",
      "0, 4, 1, 2, 3| bubSort = 7| HeapSort= 6\n",
      "0, 4, 1, 3, 2| bubSort = 9| HeapSort= 4\n",
      "0, 4, 2, 1, 3| bubSort = 9| HeapSort= 8\n",
      "0, 4, 2, 3, 1| bubSort = 10| HeapSort= 6\n",
      "0, 4, 3, 1, 2| bubSort = 9| HeapSort= 7\n",
      "0, 4, 3, 2, 1| bubSort = 10| HeapSort= 5\n",
      "1, 0, 2, 3, 4| bubSort = 7| HeapSort= 9\n",
      "1, 0, 2, 4, 3| bubSort = 7| HeapSort= 7\n",
      "1, 0, 3, 2, 4| bubSort = 7| HeapSort= 8\n",
      "1, 0, 3, 4, 2| bubSort = 9| HeapSort= 6\n",
      "1, 0, 4, 2, 3| bubSort = 7| HeapSort= 7\n",
      "1, 0, 4, 3, 2| bubSort = 9| HeapSort= 5\n",
      "1, 2, 0, 3, 4| bubSort = 9| HeapSort= 7\n",
      "1, 2, 0, 4, 3| bubSort = 9| HeapSort= 8\n",
      "1, 2, 3, 0, 4| bubSort = 10| HeapSort= 6\n",
      "1, 2, 3, 4, 0| bubSort = 10| HeapSort= 7\n",
      "1, 2, 4, 0, 3| bubSort = 10| HeapSort= 5\n",
      "1, 2, 4, 3, 0| bubSort = 10| HeapSort= 6\n",
      "1, 3, 0, 2, 4| bubSort = 9| HeapSort= 8\n",
      "1, 3, 0, 4, 2| bubSort = 9| HeapSort= 6\n",
      "1, 3, 2, 0, 4| bubSort = 10| HeapSort= 7\n",
      "1, 3, 2, 4, 0| bubSort = 10| HeapSort= 8\n",
      "1, 3, 4, 0, 2| bubSort = 10| HeapSort= 4\n",
      "1, 3, 4, 2, 0| bubSort = 10| HeapSort= 5\n",
      "1, 4, 0, 2, 3| bubSort = 9| HeapSort= 7\n",
      "1, 4, 0, 3, 2| bubSort = 9| HeapSort= 5\n",
      "1, 4, 2, 0, 3| bubSort = 10| HeapSort= 6\n",
      "1, 4, 2, 3, 0| bubSort = 10| HeapSort= 7\n",
      "1, 4, 3, 0, 2| bubSort = 10| HeapSort= 5\n",
      "1, 4, 3, 2, 0| bubSort = 10| HeapSort= 6\n",
      "2, 0, 1, 3, 4| bubSort = 7| HeapSort= 7\n",
      "2, 0, 1, 4, 3| bubSort = 7| HeapSort= 5\n",
      "2, 0, 3, 1, 4| bubSort = 9| HeapSort= 7\n",
      "2, 0, 3, 4, 1| bubSort = 10| HeapSort= 5\n",
      "2, 0, 4, 1, 3| bubSort = 9| HeapSort= 9\n",
      "2, 0, 4, 3, 1| bubSort = 10| HeapSort= 7\n",
      "2, 1, 0, 3, 4| bubSort = 9| HeapSort= 8\n",
      "2, 1, 0, 4, 3| bubSort = 9| HeapSort= 6\n",
      "2, 1, 3, 0, 4| bubSort = 10| HeapSort= 5\n",
      "2, 1, 3, 4, 0| bubSort = 10| HeapSort= 6\n",
      "2, 1, 4, 0, 3| bubSort = 10| HeapSort= 7\n",
      "2, 1, 4, 3, 0| bubSort = 10| HeapSort= 8\n",
      "2, 3, 0, 1, 4| bubSort = 9| HeapSort= 6\n",
      "2, 3, 0, 4, 1| bubSort = 10| HeapSort= 7\n",
      "2, 3, 1, 0, 4| bubSort = 10| HeapSort= 5\n",
      "2, 3, 1, 4, 0| bubSort = 10| HeapSort= 6\n",
      "2, 3, 4, 0, 1| bubSort = 10| HeapSort= 6\n",
      "2, 3, 4, 1, 0| bubSort = 10| HeapSort= 7\n",
      "2, 4, 0, 1, 3| bubSort = 9| HeapSort= 5\n",
      "2, 4, 0, 3, 1| bubSort = 10| HeapSort= 6\n",
      "2, 4, 1, 0, 3| bubSort = 10| HeapSort= 4\n",
      "2, 4, 1, 3, 0| bubSort = 10| HeapSort= 5\n",
      "2, 4, 3, 0, 1| bubSort = 10| HeapSort= 4\n",
      "2, 4, 3, 1, 0| bubSort = 10| HeapSort= 5\n",
      "3, 0, 1, 2, 4| bubSort = 7| HeapSort= 6\n",
      "3, 0, 1, 4, 2| bubSort = 9| HeapSort= 4\n",
      "3, 0, 2, 1, 4| bubSort = 9| HeapSort= 8\n",
      "3, 0, 2, 4, 1| bubSort = 10| HeapSort= 6\n",
      "3, 0, 4, 1, 2| bubSort = 9| HeapSort= 7\n",
      "3, 0, 4, 2, 1| bubSort = 10| HeapSort= 5\n",
      "3, 1, 0, 2, 4| bubSort = 9| HeapSort= 7\n",
      "3, 1, 0, 4, 2| bubSort = 9| HeapSort= 5\n",
      "3, 1, 2, 0, 4| bubSort = 10| HeapSort= 6\n",
      "3, 1, 2, 4, 0| bubSort = 10| HeapSort= 7\n",
      "3, 1, 4, 0, 2| bubSort = 10| HeapSort= 5\n",
      "3, 1, 4, 2, 0| bubSort = 10| HeapSort= 6\n",
      "3, 2, 0, 1, 4| bubSort = 9| HeapSort= 5\n",
      "3, 2, 0, 4, 1| bubSort = 10| HeapSort= 6\n",
      "3, 2, 1, 0, 4| bubSort = 10| HeapSort= 4\n",
      "3, 2, 1, 4, 0| bubSort = 10| HeapSort= 5\n",
      "3, 2, 4, 0, 1| bubSort = 10| HeapSort= 4\n",
      "3, 2, 4, 1, 0| bubSort = 10| HeapSort= 5\n",
      "3, 4, 0, 1, 2| bubSort = 9| HeapSort= 4\n",
      "3, 4, 0, 2, 1| bubSort = 10| HeapSort= 5\n",
      "3, 4, 1, 0, 2| bubSort = 10| HeapSort= 3\n",
      "3, 4, 1, 2, 0| bubSort = 10| HeapSort= 4\n",
      "3, 4, 2, 0, 1| bubSort = 10| HeapSort= 5\n",
      "3, 4, 2, 1, 0| bubSort = 10| HeapSort= 6\n",
      "4, 0, 1, 2, 3| bubSort = 7| HeapSort= 5\n",
      "4, 0, 1, 3, 2| bubSort = 9| HeapSort= 3\n",
      "4, 0, 2, 1, 3| bubSort = 9| HeapSort= 7\n",
      "4, 0, 2, 3, 1| bubSort = 10| HeapSort= 5\n",
      "4, 0, 3, 1, 2| bubSort = 9| HeapSort= 6\n",
      "4, 0, 3, 2, 1| bubSort = 10| HeapSort= 4\n",
      "4, 1, 0, 2, 3| bubSort = 9| HeapSort= 6\n",
      "4, 1, 0, 3, 2| bubSort = 9| HeapSort= 4\n",
      "4, 1, 2, 0, 3| bubSort = 10| HeapSort= 5\n",
      "4, 1, 2, 3, 0| bubSort = 10| HeapSort= 6\n",
      "4, 1, 3, 0, 2| bubSort = 10| HeapSort= 4\n",
      "4, 1, 3, 2, 0| bubSort = 10| HeapSort= 5\n",
      "4, 2, 0, 1, 3| bubSort = 9| HeapSort= 4\n",
      "4, 2, 0, 3, 1| bubSort = 10| HeapSort= 5\n",
      "4, 2, 1, 0, 3| bubSort = 10| HeapSort= 3\n",
      "4, 2, 1, 3, 0| bubSort = 10| HeapSort= 4\n",
      "4, 2, 3, 0, 1| bubSort = 10| HeapSort= 3\n",
      "4, 2, 3, 1, 0| bubSort = 10| HeapSort= 4\n",
      "4, 3, 0, 1, 2| bubSort = 9| HeapSort= 3\n",
      "4, 3, 0, 2, 1| bubSort = 10| HeapSort= 4\n",
      "4, 3, 1, 0, 2| bubSort = 10| HeapSort= 2\n",
      "4, 3, 1, 2, 0| bubSort = 10| HeapSort= 3\n",
      "4, 3, 2, 0, 1| bubSort = 10| HeapSort= 4\n",
      "4, 3, 2, 1, 0| bubSort = 10| HeapSort= 5\n"
     ]
    }
   ],
   "source": [
    "# A module full of combinatorial functions.\n",
    "import itertools\n",
    "\n",
    "# Length of example list.\n",
    "n = 5\n",
    "\n",
    "# Loop through all permutations of the list of integers from 0 to n.\n",
    "for perm in itertools.permutations(range(n)):\n",
    "    L = list(perm)\n",
    "    bubb_comp = bubble_sort(L)\n",
    "    L = list(perm)\n",
    "    heap_comp = heapsort(L)\n",
    "    print(f'{str(perm)[1:-1]}| bubSort = {bubb_comp}| HeapSort= {heap_comp}')\n",
    "    \n",
    "    # how many comparsions each sort did for tons of 0-5 orders to sort them out"
   ]
  },
  {
   "cell_type": "markdown",
   "id": "df68cc51",
   "metadata": {},
   "source": [
    "<br>\n",
    "# extra: pandas like excel"
   ]
  },
  {
   "cell_type": "code",
   "execution_count": 57,
   "id": "2969f414",
   "metadata": {},
   "outputs": [],
   "source": [
    "# Like Excel for Python\n",
    "import pandas as pd"
   ]
  },
  {
   "cell_type": "code",
   "execution_count": 58,
   "id": "c36e464a",
   "metadata": {},
   "outputs": [],
   "source": [
    "# Length of example list.\n",
    "n = 9\n",
    "\n",
    "results = [[str(perm)[1:-1], bubble_sort(list(perm)), heapsort(list(perm))] for perm in itertools.permutations(range(n))]"
   ]
  },
  {
   "cell_type": "code",
   "execution_count": 59,
   "id": "74134476",
   "metadata": {},
   "outputs": [],
   "source": [
    "# Peak at the results.\n",
    "#results"
   ]
  },
  {
   "cell_type": "code",
   "execution_count": 60,
   "id": "cf2c280e",
   "metadata": {},
   "outputs": [],
   "source": [
    "df = pd.DataFrame(results, columns=['list', 'bubble', 'heap'])"
   ]
  },
  {
   "cell_type": "code",
   "execution_count": 61,
   "id": "755a1ed7",
   "metadata": {},
   "outputs": [
    {
     "data": {
      "text/html": [
       "<div>\n",
       "<style scoped>\n",
       "    .dataframe tbody tr th:only-of-type {\n",
       "        vertical-align: middle;\n",
       "    }\n",
       "\n",
       "    .dataframe tbody tr th {\n",
       "        vertical-align: top;\n",
       "    }\n",
       "\n",
       "    .dataframe thead th {\n",
       "        text-align: right;\n",
       "    }\n",
       "</style>\n",
       "<table border=\"1\" class=\"dataframe\">\n",
       "  <thead>\n",
       "    <tr style=\"text-align: right;\">\n",
       "      <th></th>\n",
       "      <th>list</th>\n",
       "      <th>bubble</th>\n",
       "      <th>heap</th>\n",
       "    </tr>\n",
       "  </thead>\n",
       "  <tbody>\n",
       "    <tr>\n",
       "      <th>0</th>\n",
       "      <td>0, 1, 2, 3, 4, 5, 6, 7, 8</td>\n",
       "      <td>8</td>\n",
       "      <td>25</td>\n",
       "    </tr>\n",
       "    <tr>\n",
       "      <th>1</th>\n",
       "      <td>0, 1, 2, 3, 4, 5, 6, 8, 7</td>\n",
       "      <td>15</td>\n",
       "      <td>23</td>\n",
       "    </tr>\n",
       "    <tr>\n",
       "      <th>2</th>\n",
       "      <td>0, 1, 2, 3, 4, 5, 7, 6, 8</td>\n",
       "      <td>15</td>\n",
       "      <td>24</td>\n",
       "    </tr>\n",
       "    <tr>\n",
       "      <th>3</th>\n",
       "      <td>0, 1, 2, 3, 4, 5, 7, 8, 6</td>\n",
       "      <td>21</td>\n",
       "      <td>24</td>\n",
       "    </tr>\n",
       "    <tr>\n",
       "      <th>4</th>\n",
       "      <td>0, 1, 2, 3, 4, 5, 8, 6, 7</td>\n",
       "      <td>15</td>\n",
       "      <td>22</td>\n",
       "    </tr>\n",
       "  </tbody>\n",
       "</table>\n",
       "</div>"
      ],
      "text/plain": [
       "                        list  bubble  heap\n",
       "0  0, 1, 2, 3, 4, 5, 6, 7, 8       8    25\n",
       "1  0, 1, 2, 3, 4, 5, 6, 8, 7      15    23\n",
       "2  0, 1, 2, 3, 4, 5, 7, 6, 8      15    24\n",
       "3  0, 1, 2, 3, 4, 5, 7, 8, 6      21    24\n",
       "4  0, 1, 2, 3, 4, 5, 8, 6, 7      15    22"
      ]
     },
     "execution_count": 61,
     "metadata": {},
     "output_type": "execute_result"
    }
   ],
   "source": [
    "df.head()"
   ]
  },
  {
   "cell_type": "code",
   "execution_count": 62,
   "id": "635da64f",
   "metadata": {},
   "outputs": [
    {
     "data": {
      "text/html": [
       "<div>\n",
       "<style scoped>\n",
       "    .dataframe tbody tr th:only-of-type {\n",
       "        vertical-align: middle;\n",
       "    }\n",
       "\n",
       "    .dataframe tbody tr th {\n",
       "        vertical-align: top;\n",
       "    }\n",
       "\n",
       "    .dataframe thead th {\n",
       "        text-align: right;\n",
       "    }\n",
       "</style>\n",
       "<table border=\"1\" class=\"dataframe\">\n",
       "  <thead>\n",
       "    <tr style=\"text-align: right;\">\n",
       "      <th></th>\n",
       "      <th>bubble</th>\n",
       "      <th>heap</th>\n",
       "    </tr>\n",
       "  </thead>\n",
       "  <tbody>\n",
       "    <tr>\n",
       "      <th>count</th>\n",
       "      <td>362880.000000</td>\n",
       "      <td>362880.000000</td>\n",
       "    </tr>\n",
       "    <tr>\n",
       "      <th>mean</th>\n",
       "      <td>33.506842</td>\n",
       "      <td>18.522917</td>\n",
       "    </tr>\n",
       "    <tr>\n",
       "      <th>std</th>\n",
       "      <td>3.077026</td>\n",
       "      <td>2.399822</td>\n",
       "    </tr>\n",
       "    <tr>\n",
       "      <th>min</th>\n",
       "      <td>8.000000</td>\n",
       "      <td>9.000000</td>\n",
       "    </tr>\n",
       "    <tr>\n",
       "      <th>25%</th>\n",
       "      <td>33.000000</td>\n",
       "      <td>17.000000</td>\n",
       "    </tr>\n",
       "    <tr>\n",
       "      <th>50%</th>\n",
       "      <td>35.000000</td>\n",
       "      <td>19.000000</td>\n",
       "    </tr>\n",
       "    <tr>\n",
       "      <th>75%</th>\n",
       "      <td>36.000000</td>\n",
       "      <td>20.000000</td>\n",
       "    </tr>\n",
       "    <tr>\n",
       "      <th>max</th>\n",
       "      <td>36.000000</td>\n",
       "      <td>27.000000</td>\n",
       "    </tr>\n",
       "  </tbody>\n",
       "</table>\n",
       "</div>"
      ],
      "text/plain": [
       "              bubble           heap\n",
       "count  362880.000000  362880.000000\n",
       "mean       33.506842      18.522917\n",
       "std         3.077026       2.399822\n",
       "min         8.000000       9.000000\n",
       "25%        33.000000      17.000000\n",
       "50%        35.000000      19.000000\n",
       "75%        36.000000      20.000000\n",
       "max        36.000000      27.000000"
      ]
     },
     "execution_count": 62,
     "metadata": {},
     "output_type": "execute_result"
    }
   ],
   "source": [
    "df.describe()"
   ]
  },
  {
   "cell_type": "markdown",
   "id": "cb77115f",
   "metadata": {},
   "source": [
    "   # References"
   ]
  },
  {
   "cell_type": "markdown",
   "id": "f41d013d",
   "metadata": {},
   "source": [
    "https://en.wikipedia.org/wiki/Algorithm [1] <br>\n",
    "https://en.wikipedia.org/wiki/Data_structure [2]<br>\n",
    "https://en.wikipedia.org/wiki/Heapsort [3]<br>\n",
    "\n",
    "\n",
    "Data Structures and Algorithms in Java by Michael T. Goodrich\n",
    "https://books.google.ie/books?id=UqmYAgAAQBAJ&printsec=frontcover&dq=data+structures+and+algorithms&hl=en&sa=X&ved=2ahUKEwjT0pD3yM72AhVGasAKHYUfAMUQ6AF6BAgGEAI#v=onepage&q=data%20structures%20and%20algorithms&f=false  [4]<br>\n",
    "\n",
    "\n"
   ]
  },
  {
   "cell_type": "code",
   "execution_count": null,
   "id": "2eb3006b",
   "metadata": {},
   "outputs": [],
   "source": []
  }
 ],
 "metadata": {
  "kernelspec": {
   "display_name": "Python 3 (ipykernel)",
   "language": "python",
   "name": "python3"
  },
  "language_info": {
   "codemirror_mode": {
    "name": "ipython",
    "version": 3
   },
   "file_extension": ".py",
   "mimetype": "text/x-python",
   "name": "python",
   "nbconvert_exporter": "python",
   "pygments_lexer": "ipython3",
   "version": "3.9.7"
  }
 },
 "nbformat": 4,
 "nbformat_minor": 5
}
